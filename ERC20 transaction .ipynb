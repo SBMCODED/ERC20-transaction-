{
 "cells": [
  {
   "cell_type": "code",
   "execution_count": 5,
   "id": "5ba54d00",
   "metadata": {
    "scrolled": false
   },
   "outputs": [
    {
     "name": "stdout",
     "output_type": "stream",
     "text": [
      "Transaction sent. Hash: 0x6cc227ac8b8757484311fe820ad10af92c50ac050674289fac9541a922c041a1\n"
     ]
    }
   ],
   "source": [
    "from web3 import Web3\n",
    "from eth_account import Account\n",
    "\n",
    "def make_erc20_transaction(private_key, from_address, token_contract_address, to_address, amount_tokens):\n",
    "    # Connect to Ganache (change the port if your Ganache instance is running on a different port)\n",
    "    w3 = Web3(Web3.HTTPProvider('http://127.0.0.1:7545'))\n",
    "\n",
    "    # ERC-20 token contract address and ABI\n",
    "    token_abi = [{\"inputs\":[],\"stateMutability\":\"nonpayable\",\"type\":\"constructor\"},{\"anonymous\":False,\"inputs\":[{\"indexed\":True,\"internalType\":\"address\",\"name\":\"owner\",\"type\":\"address\"},{\"indexed\":True,\"internalType\":\"address\",\"name\":\"spender\",\"type\":\"address\"},{\"indexed\":False,\"internalType\":\"uint256\",\"name\":\"value\",\"type\":\"uint256\"}],\"name\":\"Approval\",\"type\":\"event\"},{\"anonymous\":False,\"inputs\":[{\"indexed\":True,\"internalType\":\"address\",\"name\":\"previousOwner\",\"type\":\"address\"},{\"indexed\":True,\"internalType\":\"address\",\"name\":\"newOwner\",\"type\":\"address\"}],\"name\":\"OwnershipTransferred\",\"type\":\"event\"},{\"anonymous\":False,\"inputs\":[{\"indexed\":False,\"internalType\":\"uint256\",\"name\":\"amountReflected\",\"type\":\"uint256\"},{\"indexed\":False,\"internalType\":\"uint256\",\"name\":\"newTotalProportion\",\"type\":\"uint256\"}],\"name\":\"Reflect\",\"type\":\"event\"},{\"anonymous\":False,\"inputs\":[{\"indexed\":True,\"internalType\":\"address\",\"name\":\"from\",\"type\":\"address\"},{\"indexed\":True,\"internalType\":\"address\",\"name\":\"to\",\"type\":\"address\"},{\"indexed\":False,\"internalType\":\"uint256\",\"name\":\"value\",\"type\":\"uint256\"}],\"name\":\"Transfer\",\"type\":\"event\"},{\"inputs\":[],\"name\":\"UNISWAP_V2_PAIR\",\"outputs\":[{\"internalType\":\"address\",\"name\":\"\",\"type\":\"address\"}],\"stateMutability\":\"view\",\"type\":\"function\"},{\"inputs\":[],\"name\":\"UNISWAP_V2_ROUTER\",\"outputs\":[{\"internalType\":\"contract IUniswapV2Router02\",\"name\":\"\",\"type\":\"address\"}],\"stateMutability\":\"view\",\"type\":\"function\"},{\"inputs\":[],\"name\":\"_maxTxAmount\",\"outputs\":[{\"internalType\":\"uint256\",\"name\":\"\",\"type\":\"uint256\"}],\"stateMutability\":\"view\",\"type\":\"function\"},{\"inputs\":[{\"internalType\":\"address\",\"name\":\"\",\"type\":\"address\"}],\"name\":\"_rOwned\",\"outputs\":[{\"internalType\":\"uint256\",\"name\":\"\",\"type\":\"uint256\"}],\"stateMutability\":\"view\",\"type\":\"function\"},{\"inputs\":[],\"name\":\"_totalProportion\",\"outputs\":[{\"internalType\":\"uint256\",\"name\":\"\",\"type\":\"uint256\"}],\"stateMutability\":\"view\",\"type\":\"function\"},{\"inputs\":[{\"internalType\":\"address\",\"name\":\"holder\",\"type\":\"address\"},{\"internalType\":\"address\",\"name\":\"spender\",\"type\":\"address\"}],\"name\":\"allowance\",\"outputs\":[{\"internalType\":\"uint256\",\"name\":\"\",\"type\":\"uint256\"}],\"stateMutability\":\"view\",\"type\":\"function\"},{\"inputs\":[{\"internalType\":\"address\",\"name\":\"spender\",\"type\":\"address\"},{\"internalType\":\"uint256\",\"name\":\"amount\",\"type\":\"uint256\"}],\"name\":\"approve\",\"outputs\":[{\"internalType\":\"bool\",\"name\":\"\",\"type\":\"bool\"}],\"stateMutability\":\"nonpayable\",\"type\":\"function\"},{\"inputs\":[{\"internalType\":\"address\",\"name\":\"spender\",\"type\":\"address\"}],\"name\":\"approveMax\",\"outputs\":[{\"internalType\":\"bool\",\"name\":\"\",\"type\":\"bool\"}],\"stateMutability\":\"nonpayable\",\"type\":\"function\"},{\"inputs\":[{\"internalType\":\"address\",\"name\":\"account\",\"type\":\"address\"}],\"name\":\"balanceOf\",\"outputs\":[{\"internalType\":\"uint256\",\"name\":\"\",\"type\":\"uint256\"}],\"stateMutability\":\"view\",\"type\":\"function\"},{\"inputs\":[{\"internalType\":\"address\",\"name\":\"_address\",\"type\":\"address\"},{\"internalType\":\"bool\",\"name\":\"_isBlacklisting\",\"type\":\"bool\"}],\"name\":\"blacklist\",\"outputs\":[],\"stateMutability\":\"nonpayable\",\"type\":\"function\"},{\"inputs\":[{\"internalType\":\"address\",\"name\":\"\",\"type\":\"address\"}],\"name\":\"blacklists\",\"outputs\":[{\"internalType\":\"bool\",\"name\":\"\",\"type\":\"bool\"}],\"stateMutability\":\"view\",\"type\":\"function\"},{\"inputs\":[],\"name\":\"buyFee\",\"outputs\":[{\"internalType\":\"uint8\",\"name\":\"reflection\",\"type\":\"uint8\"},{\"internalType\":\"uint8\",\"name\":\"marketing\",\"type\":\"uint8\"},{\"internalType\":\"uint8\",\"name\":\"lp\",\"type\":\"uint8\"},{\"internalType\":\"uint8\",\"name\":\"buyback\",\"type\":\"uint8\"},{\"internalType\":\"uint8\",\"name\":\"burn\",\"type\":\"uint8\"},{\"internalType\":\"uint128\",\"name\":\"total\",\"type\":\"uint128\"}],\"stateMutability\":\"view\",\"type\":\"function\"},{\"inputs\":[{\"internalType\":\"uint8\",\"name\":\"reflectionFeeBuy\",\"type\":\"uint8\"},{\"internalType\":\"uint8\",\"name\":\"marketingFeeBuy\",\"type\":\"uint8\"},{\"internalType\":\"uint8\",\"name\":\"lpFeeBuy\",\"type\":\"uint8\"},{\"internalType\":\"uint8\",\"name\":\"buybackFeeBuy\",\"type\":\"uint8\"},{\"internalType\":\"uint8\",\"name\":\"burnFeeBuy\",\"type\":\"uint8\"},{\"internalType\":\"uint8\",\"name\":\"reflectionFeeSell\",\"type\":\"uint8\"},{\"internalType\":\"uint8\",\"name\":\"marketingFeeSell\",\"type\":\"uint8\"},{\"internalType\":\"uint8\",\"name\":\"lpFeeSell\",\"type\":\"uint8\"},{\"internalType\":\"uint8\",\"name\":\"buybackFeeSell\",\"type\":\"uint8\"},{\"internalType\":\"uint8\",\"name\":\"burnFeeSell\",\"type\":\"uint8\"}],\"name\":\"changeFees\",\"outputs\":[],\"stateMutability\":\"nonpayable\",\"type\":\"function\"},{\"inputs\":[],\"name\":\"claimingFees\",\"outputs\":[{\"internalType\":\"bool\",\"name\":\"\",\"type\":\"bool\"}],\"stateMutability\":\"view\",\"type\":\"function\"},{\"inputs\":[],\"name\":\"clearStuckBalance\",\"outputs\":[],\"stateMutability\":\"nonpayable\",\"type\":\"function\"},{\"inputs\":[],\"name\":\"clearStuckToken\",\"outputs\":[],\"stateMutability\":\"nonpayable\",\"type\":\"function\"},{\"inputs\":[],\"name\":\"decimals\",\"outputs\":[{\"internalType\":\"uint8\",\"name\":\"\",\"type\":\"uint8\"}],\"stateMutability\":\"pure\",\"type\":\"function\"},{\"inputs\":[],\"name\":\"getCirculatingSupply\",\"outputs\":[{\"internalType\":\"uint256\",\"name\":\"\",\"type\":\"uint256\"}],\"stateMutability\":\"view\",\"type\":\"function\"},{\"inputs\":[],\"name\":\"limitsEnabled\",\"outputs\":[{\"internalType\":\"bool\",\"name\":\"\",\"type\":\"bool\"}],\"stateMutability\":\"view\",\"type\":\"function\"},{\"inputs\":[],\"name\":\"name\",\"outputs\":[{\"internalType\":\"string\",\"name\":\"\",\"type\":\"string\"}],\"stateMutability\":\"view\",\"type\":\"function\"},{\"inputs\":[],\"name\":\"owner\",\"outputs\":[{\"internalType\":\"address\",\"name\":\"\",\"type\":\"address\"}],\"stateMutability\":\"view\",\"type\":\"function\"},{\"inputs\":[],\"name\":\"renounceOwnership\",\"outputs\":[],\"stateMutability\":\"nonpayable\",\"type\":\"function\"},{\"inputs\":[],\"name\":\"sellFee\",\"outputs\":[{\"internalType\":\"uint8\",\"name\":\"reflection\",\"type\":\"uint8\"},{\"internalType\":\"uint8\",\"name\":\"marketing\",\"type\":\"uint8\"},{\"internalType\":\"uint8\",\"name\":\"lp\",\"type\":\"uint8\"},{\"internalType\":\"uint8\",\"name\":\"buyback\",\"type\":\"uint8\"},{\"internalType\":\"uint8\",\"name\":\"burn\",\"type\":\"uint8\"},{\"internalType\":\"uint128\",\"name\":\"total\",\"type\":\"uint128\"}],\"stateMutability\":\"view\",\"type\":\"function\"},{\"inputs\":[{\"internalType\":\"address\",\"name\":\"m_\",\"type\":\"address\"},{\"internalType\":\"address\",\"name\":\"lp_\",\"type\":\"address\"},{\"internalType\":\"address\",\"name\":\"b_\",\"type\":\"address\"}],\"name\":\"setFeeReceivers\",\"outputs\":[],\"stateMutability\":\"nonpayable\",\"type\":\"function\"},{\"inputs\":[{\"internalType\":\"address\",\"name\":\"holder\",\"type\":\"address\"},{\"internalType\":\"bool\",\"name\":\"exempt\",\"type\":\"bool\"}],\"name\":\"setIsFeeExempt\",\"outputs\":[],\"stateMutability\":\"nonpayable\",\"type\":\"function\"},{\"inputs\":[{\"internalType\":\"address\",\"name\":\"holder\",\"type\":\"address\"},{\"internalType\":\"bool\",\"name\":\"exempt\",\"type\":\"bool\"}],\"name\":\"setIsTxLimitExempt\",\"outputs\":[],\"stateMutability\":\"nonpayable\",\"type\":\"function\"},{\"inputs\":[{\"internalType\":\"bool\",\"name\":\"e_\",\"type\":\"bool\"}],\"name\":\"setLimitsEnabled\",\"outputs\":[],\"stateMutability\":\"nonpayable\",\"type\":\"function\"},{\"inputs\":[{\"internalType\":\"uint256\",\"name\":\"p_\",\"type\":\"uint256\"}],\"name\":\"setMaxTxBasisPoint\",\"outputs\":[],\"stateMutability\":\"nonpayable\",\"type\":\"function\"},{\"inputs\":[{\"internalType\":\"bool\",\"name\":\"_enabled\",\"type\":\"bool\"},{\"internalType\":\"uint256\",\"name\":\"_amount\",\"type\":\"uint256\"}],\"name\":\"setSwapBackSettings\",\"outputs\":[],\"stateMutability\":\"nonpayable\",\"type\":\"function\"},{\"inputs\":[],\"name\":\"swapThreshold\",\"outputs\":[{\"internalType\":\"uint256\",\"name\":\"\",\"type\":\"uint256\"}],\"stateMutability\":\"view\",\"type\":\"function\"},{\"inputs\":[],\"name\":\"symbol\",\"outputs\":[{\"internalType\":\"string\",\"name\":\"\",\"type\":\"string\"}],\"stateMutability\":\"view\",\"type\":\"function\"},{\"inputs\":[{\"internalType\":\"uint256\",\"name\":\"proportion\",\"type\":\"uint256\"}],\"name\":\"tokenFromReflection\",\"outputs\":[{\"internalType\":\"uint256\",\"name\":\"\",\"type\":\"uint256\"}],\"stateMutability\":\"view\",\"type\":\"function\"},{\"inputs\":[{\"internalType\":\"uint256\",\"name\":\"tokens\",\"type\":\"uint256\"}],\"name\":\"tokensToProportion\",\"outputs\":[{\"internalType\":\"uint256\",\"name\":\"\",\"type\":\"uint256\"}],\"stateMutability\":\"view\",\"type\":\"function\"},{\"inputs\":[],\"name\":\"totalSupply\",\"outputs\":[{\"internalType\":\"uint256\",\"name\":\"\",\"type\":\"uint256\"}],\"stateMutability\":\"view\",\"type\":\"function\"},{\"inputs\":[{\"internalType\":\"address\",\"name\":\"recipient\",\"type\":\"address\"},{\"internalType\":\"uint256\",\"name\":\"amount\",\"type\":\"uint256\"}],\"name\":\"transfer\",\"outputs\":[{\"internalType\":\"bool\",\"name\":\"\",\"type\":\"bool\"}],\"stateMutability\":\"nonpayable\",\"type\":\"function\"},{\"inputs\":[{\"internalType\":\"address\",\"name\":\"sender\",\"type\":\"address\"},{\"internalType\":\"address\",\"name\":\"recipient\",\"type\":\"address\"},{\"internalType\":\"uint256\",\"name\":\"amount\",\"type\":\"uint256\"}],\"name\":\"transferFrom\",\"outputs\":[{\"internalType\":\"bool\",\"name\":\"\",\"type\":\"bool\"}],\"stateMutability\":\"nonpayable\",\"type\":\"function\"},{\"inputs\":[{\"internalType\":\"address\",\"name\":\"newOwner\",\"type\":\"address\"}],\"name\":\"transferOwnership\",\"outputs\":[],\"stateMutability\":\"nonpayable\",\"type\":\"function\"},{\"stateMutability\":\"payable\",\"type\":\"receive\"}]\n",
    "    \n",
    "\n",
    "    # Initialize ERC-20 token contract\n",
    "    token_contract = w3.eth.contract(address=token_contract_address, abi=token_abi)\n",
    "\n",
    "    # Get nonce for the transaction\n",
    "    nonce = w3.eth.get_transaction_count(from_address)\n",
    "\n",
    "    # Get gas price and gas limit\n",
    "    gas_price = w3.eth.gas_price\n",
    "    gas_limit = 200000\n",
    "\n",
    "    # Create transaction\n",
    "    transaction = token_contract.functions.transfer(to_address, amount_tokens).build_transaction({\n",
    "        'chainId': 1337,  # Mainnet\n",
    "        'gas': gas_limit,\n",
    "        'gasPrice': gas_price,\n",
    "        'nonce': nonce,\n",
    "    })\n",
    "\n",
    "    # Sign and send transaction\n",
    "    signed_transaction = w3.eth.account.sign_transaction(transaction, private_key)\n",
    "    tx_hash = w3.eth.send_raw_transaction(signed_transaction.rawTransaction)\n",
    "\n",
    "    return tx_hash.hex()\n",
    "\n",
    "# Define your inputs\n",
    "private_key = '0x832bc6ff9c5b6f9ff8a6e7bd43ade7c8473c1d25bdc379b2ff7f2522b40b1c88'\n",
    "from_address = '0x16e1408Ae529928E2d70B7258C11F5BC51A9b57c'\n",
    "token_contract_address = '0x4ad434b8CDC3AA5AC97932D6BD18b5d313aB0f6f'\n",
    "to_address = '0x8afBeD6fBFBbfC589f324492d1eDAa13F3cd3d02'\n",
    "amount_tokens = 20\n",
    "\n",
    "# Call the function to make the transaction\n",
    "tx_hash = make_erc20_transaction(private_key, from_address, token_contract_address, to_address, amount_tokens)\n",
    "\n",
    "print(f'Transaction sent. Hash: {tx_hash}')\n"
   ]
  },
  {
   "cell_type": "code",
   "execution_count": null,
   "id": "242ace9d",
   "metadata": {},
   "outputs": [],
   "source": []
  }
 ],
 "metadata": {
  "kernelspec": {
   "display_name": "Python 3 (ipykernel)",
   "language": "python",
   "name": "python3"
  },
  "language_info": {
   "codemirror_mode": {
    "name": "ipython",
    "version": 3
   },
   "file_extension": ".py",
   "mimetype": "text/x-python",
   "name": "python",
   "nbconvert_exporter": "python",
   "pygments_lexer": "ipython3",
   "version": "3.10.2"
  }
 },
 "nbformat": 4,
 "nbformat_minor": 5
}
